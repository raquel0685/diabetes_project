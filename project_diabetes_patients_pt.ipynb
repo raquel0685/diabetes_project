{
 "cells": [
  {
   "cell_type": "markdown",
   "id": "6420704a",
   "metadata": {},
   "source": [
    "# Projeto: “Pacientes Diabéticos”  \n",
    "\n",
    "### Sobre o conjunto de dados:  \n",
    "\n",
    "Estes dados são originários do *National Institute of Diabetes and Digestive and Kidney Diseases* e também foi utilizado o artigo de Das M, Bhattacharyya G, Gong R. [*Determinants of gestational diabetes pedigree function for pima Indian females*](https://openventio.org/wp-content/uploads/Determinants-of-Gestational-Diabetes-Pedigree-Function-for-Pima-Indian-Females-IMOJ-6-121.pdf). Intern Med Open J. 2022; 6(1): 9-13, para complementar as informações dos dados. O objetivo desses dados é prever o se pacientes do sexo feminino têm diabetes com base nos atributos coletados.  \n",
    "O conjunto de dados possui as seguintes variáveis:\n",
    "\n",
    "- Pregnancies: número de gravdiezes das pacientes. O [*CDC*](https://www.cdc.gov/diabetes/basics/risk-factors.html) informa que a diabetes gestacional é comum em mulheres com sobrepeso, mais de 25 anos e com histórico familiar de diabetes tipo 2. Normalmente após o parto corre melhora, mas pode aumentar o risco da mulher desenvolver diabetes tipo 2 no futuro;  \n",
    "- Glucose: nível de glicose ou de açúcar na corrente sanguínea após o teste de tolerância a glicose. De acordo com o [*CDC*](https://www.cdc.gov/diabetes/basics/getting-tested.html),níveis entre 140 – 199 mg/dL indicam pré-diabetes e maiores que 200 mg/dL diabetes;\n",
    "- BloodPressure: valores da presão diastólica, ou seja, a pressão exercida pelo sangue nas artérias entre os batimentos cardíacos. A diabetes é um [fator de risco](https://www.cdc.gov/bloodpressure/about.htm#whatdo) comum para hipertensão arterial, e valores maiores de 80mmHg indicam que o indivíduo podeá desenvolver a doença;\n",
    "- SkinThickness: medida da grossura da dobradura de pele do tríceps. Pacientes diabéticos tendem a ter uma [pele mais fina](https://www.researchgate.net/publication/343920970_Skin_Thickness_can_Predict_the_Progress_of_Diabetes_Type_2_A_New_Medical_Hypothesis) do que indivíduos sem a doença;\n",
    "- Insulin: níveis séricos de insulina na corrente sanguínea 2h após a ingestão de glicose. [Normalmente](https://www.cdc.gov/diabetes/basics/insulin-resistance.html), os níveis de insulina e glicose trabalham juntos regulando o açúcar na corrente sanguínea. Quando os níveis de glicose no sangue estão altos, o pâncreas libera insulina para auxiliar na absorção celular. Na diabetes tipo 2, as células se tornam resistentes a insulina e não conseguem absorver o açúcar do sangue, levando o pâncreas a liberar cada vez mais mais insulina, que se acumula no sangue com a glicose. Já na diabetes tipo 1, o pâncreas não produz insulina suficiente, levando ao acúmulo de glicose na corrente sanguínea;\n",
    "- BMI: ou Índice de Massa Corporal, é calculado com base na altura e peso dos indivíduos. De acordo com o [*CDC*](https://www.cdc.gov/diabetes/library/features/diabetes-causes.html#:~:text=Your%20Body%20Mass%20Index%20Matters&text=Most%20health%20professionals%20rely%20on,tested%20for%20type%202%20diabetes.), auxilia na classificação dos pacientes quando ao sobrepeso (maior que 25) ou obesidade (maior que 30). O sobrepeso é um fator de risco importante a diabetes tipo 2;\n",
    "- DiabetesPedigreeFunction: [estima](https://openventio.org/wp-content/uploads/Determinants-of-Gestational-Diabetes-Pedigree-Function-for-Pima-Indian-Females-IMOJ-6-121.pdf), com base na idade e histórico familiar de um indiíduo, as chances desse desenvolver diabetes;\n",
    "- Age: em anos, variando entre 21 e 81;\n",
    "- Outcome: se a paciente tem ou não diabetes.\n",
    "\n",
    "### Análise:  \n"
   ]
  },
  {
   "cell_type": "markdown",
   "id": "31d5ccf7",
   "metadata": {},
   "source": [
    "##### Importações"
   ]
  },
  {
   "cell_type": "code",
   "execution_count": 50,
   "id": "91b652d6",
   "metadata": {},
   "outputs": [
    {
     "data": {
      "text/html": [
       "<div>\n",
       "<style scoped>\n",
       "    .dataframe tbody tr th:only-of-type {\n",
       "        vertical-align: middle;\n",
       "    }\n",
       "\n",
       "    .dataframe tbody tr th {\n",
       "        vertical-align: top;\n",
       "    }\n",
       "\n",
       "    .dataframe thead th {\n",
       "        text-align: right;\n",
       "    }\n",
       "</style>\n",
       "<table border=\"1\" class=\"dataframe\">\n",
       "  <thead>\n",
       "    <tr style=\"text-align: right;\">\n",
       "      <th></th>\n",
       "      <th>Pregnancies</th>\n",
       "      <th>Glucose</th>\n",
       "      <th>BloodPressure</th>\n",
       "      <th>SkinThickness</th>\n",
       "      <th>Insulin</th>\n",
       "      <th>BMI</th>\n",
       "      <th>DiabetesPedigreeFunction</th>\n",
       "      <th>Age</th>\n",
       "      <th>Outcome</th>\n",
       "    </tr>\n",
       "  </thead>\n",
       "  <tbody>\n",
       "    <tr>\n",
       "      <th>0</th>\n",
       "      <td>6</td>\n",
       "      <td>148</td>\n",
       "      <td>72</td>\n",
       "      <td>35</td>\n",
       "      <td>0</td>\n",
       "      <td>33.6</td>\n",
       "      <td>0.627</td>\n",
       "      <td>50</td>\n",
       "      <td>1</td>\n",
       "    </tr>\n",
       "    <tr>\n",
       "      <th>1</th>\n",
       "      <td>1</td>\n",
       "      <td>85</td>\n",
       "      <td>66</td>\n",
       "      <td>29</td>\n",
       "      <td>0</td>\n",
       "      <td>26.6</td>\n",
       "      <td>0.351</td>\n",
       "      <td>31</td>\n",
       "      <td>0</td>\n",
       "    </tr>\n",
       "    <tr>\n",
       "      <th>2</th>\n",
       "      <td>8</td>\n",
       "      <td>183</td>\n",
       "      <td>64</td>\n",
       "      <td>0</td>\n",
       "      <td>0</td>\n",
       "      <td>23.3</td>\n",
       "      <td>0.672</td>\n",
       "      <td>32</td>\n",
       "      <td>1</td>\n",
       "    </tr>\n",
       "    <tr>\n",
       "      <th>3</th>\n",
       "      <td>1</td>\n",
       "      <td>89</td>\n",
       "      <td>66</td>\n",
       "      <td>23</td>\n",
       "      <td>94</td>\n",
       "      <td>28.1</td>\n",
       "      <td>0.167</td>\n",
       "      <td>21</td>\n",
       "      <td>0</td>\n",
       "    </tr>\n",
       "    <tr>\n",
       "      <th>4</th>\n",
       "      <td>0</td>\n",
       "      <td>137</td>\n",
       "      <td>40</td>\n",
       "      <td>35</td>\n",
       "      <td>168</td>\n",
       "      <td>43.1</td>\n",
       "      <td>2.288</td>\n",
       "      <td>33</td>\n",
       "      <td>1</td>\n",
       "    </tr>\n",
       "  </tbody>\n",
       "</table>\n",
       "</div>"
      ],
      "text/plain": [
       "   Pregnancies  Glucose  BloodPressure  SkinThickness  Insulin   BMI  \\\n",
       "0            6      148             72             35        0  33.6   \n",
       "1            1       85             66             29        0  26.6   \n",
       "2            8      183             64              0        0  23.3   \n",
       "3            1       89             66             23       94  28.1   \n",
       "4            0      137             40             35      168  43.1   \n",
       "\n",
       "   DiabetesPedigreeFunction  Age  Outcome  \n",
       "0                     0.627   50        1  \n",
       "1                     0.351   31        0  \n",
       "2                     0.672   32        1  \n",
       "3                     0.167   21        0  \n",
       "4                     2.288   33        1  "
      ]
     },
     "execution_count": 50,
     "metadata": {},
     "output_type": "execute_result"
    }
   ],
   "source": [
    "import pandas as pd\n",
    "import numpy as np\n",
    "import matplotlib.pyplot as plt\n",
    "import seaborn as sns\n",
    "\n",
    "data = pd.read_csv('diabetes.csv', sep=',')\n",
    "data.head(5)"
   ]
  },
  {
   "cell_type": "markdown",
   "id": "f4885f14",
   "metadata": {},
   "source": [
    "##### Verificando os dados"
   ]
  },
  {
   "cell_type": "code",
   "execution_count": 51,
   "id": "2a26b37b",
   "metadata": {},
   "outputs": [
    {
     "name": "stdout",
     "output_type": "stream",
     "text": [
      "<class 'pandas.core.frame.DataFrame'>\n",
      "RangeIndex: 768 entries, 0 to 767\n",
      "Data columns (total 9 columns):\n",
      " #   Column                    Non-Null Count  Dtype  \n",
      "---  ------                    --------------  -----  \n",
      " 0   Pregnancies               768 non-null    int64  \n",
      " 1   Glucose                   768 non-null    int64  \n",
      " 2   BloodPressure             768 non-null    int64  \n",
      " 3   SkinThickness             768 non-null    int64  \n",
      " 4   Insulin                   768 non-null    int64  \n",
      " 5   BMI                       768 non-null    float64\n",
      " 6   DiabetesPedigreeFunction  768 non-null    float64\n",
      " 7   Age                       768 non-null    int64  \n",
      " 8   Outcome                   768 non-null    int64  \n",
      "dtypes: float64(2), int64(7)\n",
      "memory usage: 54.1 KB\n"
     ]
    }
   ],
   "source": [
    "data.info()"
   ]
  },
  {
   "cell_type": "markdown",
   "id": "48267871",
   "metadata": {},
   "source": [
    "O conjunto de dados tem 9 colunas e 768 entradas não nulas."
   ]
  },
  {
   "cell_type": "code",
   "execution_count": 52,
   "id": "4867bbc6",
   "metadata": {},
   "outputs": [
    {
     "data": {
      "text/html": [
       "<div>\n",
       "<style scoped>\n",
       "    .dataframe tbody tr th:only-of-type {\n",
       "        vertical-align: middle;\n",
       "    }\n",
       "\n",
       "    .dataframe tbody tr th {\n",
       "        vertical-align: top;\n",
       "    }\n",
       "\n",
       "    .dataframe thead th {\n",
       "        text-align: right;\n",
       "    }\n",
       "</style>\n",
       "<table border=\"1\" class=\"dataframe\">\n",
       "  <thead>\n",
       "    <tr style=\"text-align: right;\">\n",
       "      <th></th>\n",
       "      <th>Pregnancies</th>\n",
       "      <th>Glucose</th>\n",
       "      <th>BloodPressure</th>\n",
       "      <th>SkinThickness</th>\n",
       "      <th>Insulin</th>\n",
       "      <th>BMI</th>\n",
       "      <th>DiabetesPedigreeFunction</th>\n",
       "      <th>Age</th>\n",
       "      <th>Outcome</th>\n",
       "    </tr>\n",
       "  </thead>\n",
       "  <tbody>\n",
       "    <tr>\n",
       "      <th>count</th>\n",
       "      <td>768.000000</td>\n",
       "      <td>768.000000</td>\n",
       "      <td>768.000000</td>\n",
       "      <td>768.000000</td>\n",
       "      <td>768.000000</td>\n",
       "      <td>768.000000</td>\n",
       "      <td>768.000000</td>\n",
       "      <td>768.000000</td>\n",
       "      <td>768.000000</td>\n",
       "    </tr>\n",
       "    <tr>\n",
       "      <th>mean</th>\n",
       "      <td>3.845052</td>\n",
       "      <td>120.894531</td>\n",
       "      <td>69.105469</td>\n",
       "      <td>20.536458</td>\n",
       "      <td>79.799479</td>\n",
       "      <td>31.992578</td>\n",
       "      <td>0.471876</td>\n",
       "      <td>33.240885</td>\n",
       "      <td>0.348958</td>\n",
       "    </tr>\n",
       "    <tr>\n",
       "      <th>std</th>\n",
       "      <td>3.369578</td>\n",
       "      <td>31.972618</td>\n",
       "      <td>19.355807</td>\n",
       "      <td>15.952218</td>\n",
       "      <td>115.244002</td>\n",
       "      <td>7.884160</td>\n",
       "      <td>0.331329</td>\n",
       "      <td>11.760232</td>\n",
       "      <td>0.476951</td>\n",
       "    </tr>\n",
       "    <tr>\n",
       "      <th>min</th>\n",
       "      <td>0.000000</td>\n",
       "      <td>0.000000</td>\n",
       "      <td>0.000000</td>\n",
       "      <td>0.000000</td>\n",
       "      <td>0.000000</td>\n",
       "      <td>0.000000</td>\n",
       "      <td>0.078000</td>\n",
       "      <td>21.000000</td>\n",
       "      <td>0.000000</td>\n",
       "    </tr>\n",
       "    <tr>\n",
       "      <th>25%</th>\n",
       "      <td>1.000000</td>\n",
       "      <td>99.000000</td>\n",
       "      <td>62.000000</td>\n",
       "      <td>0.000000</td>\n",
       "      <td>0.000000</td>\n",
       "      <td>27.300000</td>\n",
       "      <td>0.243750</td>\n",
       "      <td>24.000000</td>\n",
       "      <td>0.000000</td>\n",
       "    </tr>\n",
       "    <tr>\n",
       "      <th>50%</th>\n",
       "      <td>3.000000</td>\n",
       "      <td>117.000000</td>\n",
       "      <td>72.000000</td>\n",
       "      <td>23.000000</td>\n",
       "      <td>30.500000</td>\n",
       "      <td>32.000000</td>\n",
       "      <td>0.372500</td>\n",
       "      <td>29.000000</td>\n",
       "      <td>0.000000</td>\n",
       "    </tr>\n",
       "    <tr>\n",
       "      <th>75%</th>\n",
       "      <td>6.000000</td>\n",
       "      <td>140.250000</td>\n",
       "      <td>80.000000</td>\n",
       "      <td>32.000000</td>\n",
       "      <td>127.250000</td>\n",
       "      <td>36.600000</td>\n",
       "      <td>0.626250</td>\n",
       "      <td>41.000000</td>\n",
       "      <td>1.000000</td>\n",
       "    </tr>\n",
       "    <tr>\n",
       "      <th>max</th>\n",
       "      <td>17.000000</td>\n",
       "      <td>199.000000</td>\n",
       "      <td>122.000000</td>\n",
       "      <td>99.000000</td>\n",
       "      <td>846.000000</td>\n",
       "      <td>67.100000</td>\n",
       "      <td>2.420000</td>\n",
       "      <td>81.000000</td>\n",
       "      <td>1.000000</td>\n",
       "    </tr>\n",
       "  </tbody>\n",
       "</table>\n",
       "</div>"
      ],
      "text/plain": [
       "       Pregnancies     Glucose  BloodPressure  SkinThickness     Insulin  \\\n",
       "count   768.000000  768.000000     768.000000     768.000000  768.000000   \n",
       "mean      3.845052  120.894531      69.105469      20.536458   79.799479   \n",
       "std       3.369578   31.972618      19.355807      15.952218  115.244002   \n",
       "min       0.000000    0.000000       0.000000       0.000000    0.000000   \n",
       "25%       1.000000   99.000000      62.000000       0.000000    0.000000   \n",
       "50%       3.000000  117.000000      72.000000      23.000000   30.500000   \n",
       "75%       6.000000  140.250000      80.000000      32.000000  127.250000   \n",
       "max      17.000000  199.000000     122.000000      99.000000  846.000000   \n",
       "\n",
       "              BMI  DiabetesPedigreeFunction         Age     Outcome  \n",
       "count  768.000000                768.000000  768.000000  768.000000  \n",
       "mean    31.992578                  0.471876   33.240885    0.348958  \n",
       "std      7.884160                  0.331329   11.760232    0.476951  \n",
       "min      0.000000                  0.078000   21.000000    0.000000  \n",
       "25%     27.300000                  0.243750   24.000000    0.000000  \n",
       "50%     32.000000                  0.372500   29.000000    0.000000  \n",
       "75%     36.600000                  0.626250   41.000000    1.000000  \n",
       "max     67.100000                  2.420000   81.000000    1.000000  "
      ]
     },
     "execution_count": 52,
     "metadata": {},
     "output_type": "execute_result"
    }
   ],
   "source": [
    "data.describe()"
   ]
  },
  {
   "cell_type": "code",
   "execution_count": 53,
   "id": "f8fe0b07",
   "metadata": {},
   "outputs": [
    {
     "data": {
      "text/plain": [
       "Pregnancies                 0\n",
       "Glucose                     0\n",
       "BloodPressure               0\n",
       "SkinThickness               0\n",
       "Insulin                     0\n",
       "BMI                         0\n",
       "DiabetesPedigreeFunction    0\n",
       "Age                         0\n",
       "Outcome                     0\n",
       "dtype: int64"
      ]
     },
     "execution_count": 53,
     "metadata": {},
     "output_type": "execute_result"
    }
   ],
   "source": [
    "data.isnull().sum()"
   ]
  },
  {
   "cell_type": "markdown",
   "id": "02b3211b",
   "metadata": {},
   "source": [
    "Incluimos a coluna 'Diagnosis' para descrever os dados da coluna 'Outcome'."
   ]
  },
  {
   "cell_type": "code",
   "execution_count": 54,
   "id": "c32953c8",
   "metadata": {},
   "outputs": [],
   "source": [
    "def diabetes(number):\n",
    "    if number == 0:\n",
    "        return 'Não-diabetes'\n",
    "    else:\n",
    "        return 'Diabetes'\n",
    "\n",
    "\n",
    "data['Diagnosis']=data['Outcome'].apply(diabetes)"
   ]
  },
  {
   "cell_type": "code",
   "execution_count": 55,
   "id": "5bba46dc",
   "metadata": {},
   "outputs": [
    {
     "data": {
      "text/html": [
       "<div>\n",
       "<style scoped>\n",
       "    .dataframe tbody tr th:only-of-type {\n",
       "        vertical-align: middle;\n",
       "    }\n",
       "\n",
       "    .dataframe tbody tr th {\n",
       "        vertical-align: top;\n",
       "    }\n",
       "\n",
       "    .dataframe thead th {\n",
       "        text-align: right;\n",
       "    }\n",
       "</style>\n",
       "<table border=\"1\" class=\"dataframe\">\n",
       "  <thead>\n",
       "    <tr style=\"text-align: right;\">\n",
       "      <th></th>\n",
       "      <th>Pregnancies</th>\n",
       "      <th>Glucose</th>\n",
       "      <th>BloodPressure</th>\n",
       "      <th>SkinThickness</th>\n",
       "      <th>Insulin</th>\n",
       "      <th>BMI</th>\n",
       "      <th>DiabetesPedigreeFunction</th>\n",
       "      <th>Age</th>\n",
       "      <th>Outcome</th>\n",
       "      <th>Diagnosis</th>\n",
       "    </tr>\n",
       "  </thead>\n",
       "  <tbody>\n",
       "    <tr>\n",
       "      <th>0</th>\n",
       "      <td>6</td>\n",
       "      <td>148</td>\n",
       "      <td>72</td>\n",
       "      <td>35</td>\n",
       "      <td>0</td>\n",
       "      <td>33.6</td>\n",
       "      <td>0.627</td>\n",
       "      <td>50</td>\n",
       "      <td>1</td>\n",
       "      <td>Diabetes</td>\n",
       "    </tr>\n",
       "    <tr>\n",
       "      <th>1</th>\n",
       "      <td>1</td>\n",
       "      <td>85</td>\n",
       "      <td>66</td>\n",
       "      <td>29</td>\n",
       "      <td>0</td>\n",
       "      <td>26.6</td>\n",
       "      <td>0.351</td>\n",
       "      <td>31</td>\n",
       "      <td>0</td>\n",
       "      <td>Não-diabetes</td>\n",
       "    </tr>\n",
       "    <tr>\n",
       "      <th>2</th>\n",
       "      <td>8</td>\n",
       "      <td>183</td>\n",
       "      <td>64</td>\n",
       "      <td>0</td>\n",
       "      <td>0</td>\n",
       "      <td>23.3</td>\n",
       "      <td>0.672</td>\n",
       "      <td>32</td>\n",
       "      <td>1</td>\n",
       "      <td>Diabetes</td>\n",
       "    </tr>\n",
       "    <tr>\n",
       "      <th>3</th>\n",
       "      <td>1</td>\n",
       "      <td>89</td>\n",
       "      <td>66</td>\n",
       "      <td>23</td>\n",
       "      <td>94</td>\n",
       "      <td>28.1</td>\n",
       "      <td>0.167</td>\n",
       "      <td>21</td>\n",
       "      <td>0</td>\n",
       "      <td>Não-diabetes</td>\n",
       "    </tr>\n",
       "    <tr>\n",
       "      <th>4</th>\n",
       "      <td>0</td>\n",
       "      <td>137</td>\n",
       "      <td>40</td>\n",
       "      <td>35</td>\n",
       "      <td>168</td>\n",
       "      <td>43.1</td>\n",
       "      <td>2.288</td>\n",
       "      <td>33</td>\n",
       "      <td>1</td>\n",
       "      <td>Diabetes</td>\n",
       "    </tr>\n",
       "  </tbody>\n",
       "</table>\n",
       "</div>"
      ],
      "text/plain": [
       "   Pregnancies  Glucose  BloodPressure  SkinThickness  Insulin   BMI  \\\n",
       "0            6      148             72             35        0  33.6   \n",
       "1            1       85             66             29        0  26.6   \n",
       "2            8      183             64              0        0  23.3   \n",
       "3            1       89             66             23       94  28.1   \n",
       "4            0      137             40             35      168  43.1   \n",
       "\n",
       "   DiabetesPedigreeFunction  Age  Outcome     Diagnosis  \n",
       "0                     0.627   50        1      Diabetes  \n",
       "1                     0.351   31        0  Não-diabetes  \n",
       "2                     0.672   32        1      Diabetes  \n",
       "3                     0.167   21        0  Não-diabetes  \n",
       "4                     2.288   33        1      Diabetes  "
      ]
     },
     "execution_count": 55,
     "metadata": {},
     "output_type": "execute_result"
    }
   ],
   "source": [
    "data.head(5)"
   ]
  },
  {
   "cell_type": "markdown",
   "id": "22ae9676",
   "metadata": {},
   "source": [
    "##### Visualizações"
   ]
  },
  {
   "cell_type": "markdown",
   "id": "2e29f551",
   "metadata": {},
   "source": [
    "Inicialmente, analisamos a correlação entre as variáveis e o resultado (Outcome) para identificar aquelas que influenciavam no diagnóstico da diabetes."
   ]
  },
  {
   "cell_type": "code",
   "execution_count": 95,
   "id": "993fd2da",
   "metadata": {},
   "outputs": [
    {
     "data": {
      "image/png": "[encoded data removed]",
      "text/plain": [
       "<Figure size 432x288 with 2 Axes>"
      ]
     },
     "metadata": {
      "needs_background": "light"
     },
     "output_type": "display_data"
    }
   ],
   "source": [
    "corr = data.corr()\n",
    "sns.heatmap(corr, \n",
    "         xticklabels=corr.columns, \n",
    "         yticklabels=corr.columns,\n",
    "           annot=True, cmap='RdBu');"
   ]
  },
  {
   "cell_type": "markdown",
   "id": "f9e9321b",
   "metadata": {},
   "source": [
    "Focaremos a análise nas seguintes variáveis: *Pregnancies*, *Glucose*, *Insulin* , *BMI*, e *Age*.  \n"
   ]
  },
  {
   "cell_type": "markdown",
   "id": "412c7ec2",
   "metadata": {},
   "source": [
    "Primeiramente, vamos verificar a relação entre *Age* e *Outcome*."
   ]
  },
  {
   "cell_type": "code",
   "execution_count": 85,
   "id": "60bd8a58",
   "metadata": {},
   "outputs": [
    {
     "data": {
      "image/png": "[encoded data removed]",
      "text/plain": [
       "<Figure size 432x288 with 1 Axes>"
      ]
     },
     "metadata": {
      "needs_background": "light"
     },
     "output_type": "display_data"
    }
   ],
   "source": [
    "plt.hist(data[data['Outcome']==1]['Age'], bins=10, color='#CC6677')\n",
    "plt.title('Distribuição de pacientes diabéticas por idade');\n",
    "plt.xlabel('Idade');\n",
    "plt.ylabel('Frequência');\n",
    "plt.show();"
   ]
  },
  {
   "cell_type": "markdown",
   "id": "b4069d02",
   "metadata": {},
   "source": [
    "A maioria das mulheres diabéticas se encontram na faixa etária de 21 e 30 anos, mas há um outro pico de pacientes na idade de 45 anos, o que [pode indicar](https://www.cdc.gov/diabetes/basics/risk-factors.html) possíveis diagnósticos de pré-diabetes e/ou diabetes tipo 2.  \n",
    "Casos de diabetes são mais frequentes entre as mulheres que reportaram maior número de gravidezes, como podemos ver abaixo.  \n",
    "\n"
   ]
  },
  {
   "cell_type": "code",
   "execution_count": 92,
   "id": "af17ada5",
   "metadata": {},
   "outputs": [
    {
     "data": {
      "image/png": "[encoded data removed]",
      "text/plain": [
       "<Figure size 432x288 with 1 Axes>"
      ]
     },
     "metadata": {
      "needs_background": "light"
     },
     "output_type": "display_data"
    }
   ],
   "source": [
    "plt.bar(data['Diagnosis'], data['Pregnancies'], color='#88CCEE')\n",
    "plt.title('Número de gravidezes reportadas por pacientes diabéticas e não-diabéticas');\n",
    "plt.show();"
   ]
  },
  {
   "cell_type": "markdown",
   "id": "1c7fbacf",
   "metadata": {},
   "source": [
    "Mulheres que relataram nenhuma a 3 gravidezes foram as que mais tiveram níveis de glicose maiores de 140 mg/dl, como vemos no histograma abaixo."
   ]
  },
  {
   "cell_type": "code",
   "execution_count": 87,
   "id": "58ddf9e7",
   "metadata": {},
   "outputs": [
    {
     "data": {
      "image/png": "[encoded data removed]",
      "text/plain": [
       "<Figure size 432x288 with 1 Axes>"
      ]
     },
     "metadata": {
      "needs_background": "light"
     },
     "output_type": "display_data"
    }
   ],
   "source": [
    "plt.hist(data[data['Glucose']>140]['Pregnancies'], bins=5, color='#CC6677')\n",
    "plt.title('Frequência de pacientes com níveis de glicose > 140 mg/dl por gravidezes reportadas');\n",
    "plt.xlabel('Gravidez');\n",
    "plt.ylabel('Frequência');\n",
    "plt.show()"
   ]
  },
  {
   "cell_type": "markdown",
   "id": "781d99e8",
   "metadata": {},
   "source": [
    "Os dados também mostram que as mulheres com IMC maior que 30 foram as queapresentaram níveis de glicose maiores de 140 mg/dl com mais frequência."
   ]
  },
  {
   "cell_type": "code",
   "execution_count": 88,
   "id": "0f25958e",
   "metadata": {},
   "outputs": [
    {
     "data": {
      "image/png": "[encoded data removed]",
      "text/plain": [
       "<Figure size 432x288 with 1 Axes>"
      ]
     },
     "metadata": {
      "needs_background": "light"
     },
     "output_type": "display_data"
    }
   ],
   "source": [
    "plt.hist(data[data['Glucose']>140]['BMI'], bins=10, color='#CC6677')\n",
    "plt.title('Frequência de pacientes com níveis de glicose > 140 mg/dl pelo IMC');\n",
    "plt.xlabel('IMC');\n",
    "plt.ylabel('Frequência');\n",
    "plt.show();"
   ]
  },
  {
   "cell_type": "markdown",
   "id": "1c1aba8e",
   "metadata": {},
   "source": [
    "Vemos com os dados que, quando os níveis de glicose no sangue aumentam, também há aumento nos níveis de insulina. Mas, temos um pico de insulina de 800 µU/ml, enquanto o pico de glicose sanguínea foi de 199 mg/dL. Este achado sugere a possibilidade de uma condição chamada [*hiperinsulinemia*](https://my.clevelandclinic.org/health/diseases/24178-hyperinsulinemia), que está associada a resistência celular à insulina, podendo evoluir para o diabetes tipo 2."
   ]
  },
  {
   "cell_type": "code",
   "execution_count": 91,
   "id": "a1553125",
   "metadata": {},
   "outputs": [
    {
     "data": {
      "image/png": "[encoded data removed]",
      "text/plain": [
       "<Figure size 432x288 with 1 Axes>"
      ]
     },
     "metadata": {
      "needs_background": "light"
     },
     "output_type": "display_data"
    }
   ],
   "source": [
    "sns.scatterplot(x=data['Glucose'], y=data['Insulin'], color='#44AA99')\n",
    "plt.title('Níveis de glicose pelos de insulina');\n",
    "plt.xlabel('Glicose');\n",
    "plt.ylabel('Insulina');\n",
    "plt.show();"
   ]
  },
  {
   "cell_type": "markdown",
   "id": "ae842747",
   "metadata": {},
   "source": [
    "Mulheres diabéticas também estavam sujeitas a maiores níveis séricos de insulina no sangue."
   ]
  },
  {
   "cell_type": "code",
   "execution_count": 93,
   "id": "cb50949f",
   "metadata": {},
   "outputs": [
    {
     "data": {
      "image/png": "[encoded data removed]",
      "text/plain": [
       "<Figure size 432x288 with 1 Axes>"
      ]
     },
     "metadata": {
      "needs_background": "light"
     },
     "output_type": "display_data"
    }
   ],
   "source": [
    "plt.bar(data['Diagnosis'], data['Insulin'],color='#88CCEE')\n",
    "plt.title('Nível de insulina de pacientes diabéticas e não-diabéticas');\n",
    "plt.ylabel('Insulina');\n",
    "plt.show()"
   ]
  },
  {
   "cell_type": "markdown",
   "id": "4c51c189",
   "metadata": {},
   "source": [
    "##### Predições"
   ]
  },
  {
   "cell_type": "markdown",
   "id": "e171434e",
   "metadata": {},
   "source": [
    "O método de Classificador de Vetor de Suporte Linear ou [Linear Support Vector Classifier (SVC)](https://www.datacamp.com/tutorial/svm-classification-scikit-learn-python) é uma função kernel linear que pode ser utilizada para classificar amostras.  \n",
    "Cremos que será adequada para predizer as chances das pacientes de receberem o diagnóstico de diabetes."
   ]
  },
  {
   "cell_type": "code",
   "execution_count": 63,
   "id": "4e87ae11",
   "metadata": {},
   "outputs": [],
   "source": [
    "from sklearn.svm import LinearSVC\n",
    "from sklearn.metrics import accuracy_score\n",
    "from sklearn.model_selection import train_test_split"
   ]
  },
  {
   "cell_type": "code",
   "execution_count": 64,
   "id": "fe5f30ae",
   "metadata": {},
   "outputs": [
    {
     "data": {
      "text/html": [
       "<div>\n",
       "<style scoped>\n",
       "    .dataframe tbody tr th:only-of-type {\n",
       "        vertical-align: middle;\n",
       "    }\n",
       "\n",
       "    .dataframe tbody tr th {\n",
       "        vertical-align: top;\n",
       "    }\n",
       "\n",
       "    .dataframe thead th {\n",
       "        text-align: right;\n",
       "    }\n",
       "</style>\n",
       "<table border=\"1\" class=\"dataframe\">\n",
       "  <thead>\n",
       "    <tr style=\"text-align: right;\">\n",
       "      <th></th>\n",
       "      <th>Pregnancies</th>\n",
       "      <th>Glucose</th>\n",
       "      <th>BloodPressure</th>\n",
       "      <th>SkinThickness</th>\n",
       "      <th>Insulin</th>\n",
       "      <th>BMI</th>\n",
       "      <th>DiabetesPedigreeFunction</th>\n",
       "      <th>Age</th>\n",
       "      <th>Outcome</th>\n",
       "      <th>Diagnosis</th>\n",
       "    </tr>\n",
       "  </thead>\n",
       "  <tbody>\n",
       "    <tr>\n",
       "      <th>0</th>\n",
       "      <td>6</td>\n",
       "      <td>148</td>\n",
       "      <td>72</td>\n",
       "      <td>35</td>\n",
       "      <td>0</td>\n",
       "      <td>33.6</td>\n",
       "      <td>0.627</td>\n",
       "      <td>50</td>\n",
       "      <td>1</td>\n",
       "      <td>Diabetes</td>\n",
       "    </tr>\n",
       "    <tr>\n",
       "      <th>1</th>\n",
       "      <td>1</td>\n",
       "      <td>85</td>\n",
       "      <td>66</td>\n",
       "      <td>29</td>\n",
       "      <td>0</td>\n",
       "      <td>26.6</td>\n",
       "      <td>0.351</td>\n",
       "      <td>31</td>\n",
       "      <td>0</td>\n",
       "      <td>Não-diabetes</td>\n",
       "    </tr>\n",
       "    <tr>\n",
       "      <th>2</th>\n",
       "      <td>8</td>\n",
       "      <td>183</td>\n",
       "      <td>64</td>\n",
       "      <td>0</td>\n",
       "      <td>0</td>\n",
       "      <td>23.3</td>\n",
       "      <td>0.672</td>\n",
       "      <td>32</td>\n",
       "      <td>1</td>\n",
       "      <td>Diabetes</td>\n",
       "    </tr>\n",
       "    <tr>\n",
       "      <th>3</th>\n",
       "      <td>1</td>\n",
       "      <td>89</td>\n",
       "      <td>66</td>\n",
       "      <td>23</td>\n",
       "      <td>94</td>\n",
       "      <td>28.1</td>\n",
       "      <td>0.167</td>\n",
       "      <td>21</td>\n",
       "      <td>0</td>\n",
       "      <td>Não-diabetes</td>\n",
       "    </tr>\n",
       "    <tr>\n",
       "      <th>4</th>\n",
       "      <td>0</td>\n",
       "      <td>137</td>\n",
       "      <td>40</td>\n",
       "      <td>35</td>\n",
       "      <td>168</td>\n",
       "      <td>43.1</td>\n",
       "      <td>2.288</td>\n",
       "      <td>33</td>\n",
       "      <td>1</td>\n",
       "      <td>Diabetes</td>\n",
       "    </tr>\n",
       "  </tbody>\n",
       "</table>\n",
       "</div>"
      ],
      "text/plain": [
       "   Pregnancies  Glucose  BloodPressure  SkinThickness  Insulin   BMI  \\\n",
       "0            6      148             72             35        0  33.6   \n",
       "1            1       85             66             29        0  26.6   \n",
       "2            8      183             64              0        0  23.3   \n",
       "3            1       89             66             23       94  28.1   \n",
       "4            0      137             40             35      168  43.1   \n",
       "\n",
       "   DiabetesPedigreeFunction  Age  Outcome     Diagnosis  \n",
       "0                     0.627   50        1      Diabetes  \n",
       "1                     0.351   31        0  Não-diabetes  \n",
       "2                     0.672   32        1      Diabetes  \n",
       "3                     0.167   21        0  Não-diabetes  \n",
       "4                     2.288   33        1      Diabetes  "
      ]
     },
     "execution_count": 64,
     "metadata": {},
     "output_type": "execute_result"
    }
   ],
   "source": [
    "data.head(5)"
   ]
  },
  {
   "cell_type": "markdown",
   "id": "fb818909",
   "metadata": {},
   "source": [
    "Iremos crias subconjuntos dos dados com as variáveis *Pregnancies*, *Glucose*, *Insulin* , *BMI*, e *Age* e outro subconjunto com a variável *Outcome*"
   ]
  },
  {
   "cell_type": "code",
   "execution_count": 65,
   "id": "c02ec863",
   "metadata": {},
   "outputs": [
    {
     "data": {
      "text/html": [
       "<div>\n",
       "<style scoped>\n",
       "    .dataframe tbody tr th:only-of-type {\n",
       "        vertical-align: middle;\n",
       "    }\n",
       "\n",
       "    .dataframe tbody tr th {\n",
       "        vertical-align: top;\n",
       "    }\n",
       "\n",
       "    .dataframe thead th {\n",
       "        text-align: right;\n",
       "    }\n",
       "</style>\n",
       "<table border=\"1\" class=\"dataframe\">\n",
       "  <thead>\n",
       "    <tr style=\"text-align: right;\">\n",
       "      <th></th>\n",
       "      <th>Pregnancies</th>\n",
       "      <th>Glucose</th>\n",
       "      <th>BMI</th>\n",
       "      <th>Age</th>\n",
       "      <th>Insulin</th>\n",
       "    </tr>\n",
       "  </thead>\n",
       "  <tbody>\n",
       "    <tr>\n",
       "      <th>0</th>\n",
       "      <td>6</td>\n",
       "      <td>148</td>\n",
       "      <td>33.6</td>\n",
       "      <td>50</td>\n",
       "      <td>0</td>\n",
       "    </tr>\n",
       "    <tr>\n",
       "      <th>1</th>\n",
       "      <td>1</td>\n",
       "      <td>85</td>\n",
       "      <td>26.6</td>\n",
       "      <td>31</td>\n",
       "      <td>0</td>\n",
       "    </tr>\n",
       "    <tr>\n",
       "      <th>2</th>\n",
       "      <td>8</td>\n",
       "      <td>183</td>\n",
       "      <td>23.3</td>\n",
       "      <td>32</td>\n",
       "      <td>0</td>\n",
       "    </tr>\n",
       "    <tr>\n",
       "      <th>3</th>\n",
       "      <td>1</td>\n",
       "      <td>89</td>\n",
       "      <td>28.1</td>\n",
       "      <td>21</td>\n",
       "      <td>94</td>\n",
       "    </tr>\n",
       "    <tr>\n",
       "      <th>4</th>\n",
       "      <td>0</td>\n",
       "      <td>137</td>\n",
       "      <td>43.1</td>\n",
       "      <td>33</td>\n",
       "      <td>168</td>\n",
       "    </tr>\n",
       "  </tbody>\n",
       "</table>\n",
       "</div>"
      ],
      "text/plain": [
       "   Pregnancies  Glucose   BMI  Age  Insulin\n",
       "0            6      148  33.6   50        0\n",
       "1            1       85  26.6   31        0\n",
       "2            8      183  23.3   32        0\n",
       "3            1       89  28.1   21       94\n",
       "4            0      137  43.1   33      168"
      ]
     },
     "execution_count": 65,
     "metadata": {},
     "output_type": "execute_result"
    }
   ],
   "source": [
    "x = data[['Pregnancies','Glucose','BMI','Age', 'Insulin']]\n",
    "x.head()"
   ]
  },
  {
   "cell_type": "code",
   "execution_count": 66,
   "id": "a414e701",
   "metadata": {},
   "outputs": [
    {
     "data": {
      "text/plain": [
       "0    1\n",
       "1    0\n",
       "2    1\n",
       "3    0\n",
       "4    1\n",
       "Name: Outcome, dtype: int64"
      ]
     },
     "execution_count": 66,
     "metadata": {},
     "output_type": "execute_result"
    }
   ],
   "source": [
    "y = data['Outcome']\n",
    "y.head()"
   ]
  },
  {
   "cell_type": "markdown",
   "id": "85dbf092",
   "metadata": {},
   "source": [
    "Dividiremos os subconjuntos entre grupos de treino, com 75% dos dados, e de teste com 25% dos dados."
   ]
  },
  {
   "cell_type": "code",
   "execution_count": 67,
   "id": "221ea072",
   "metadata": {},
   "outputs": [],
   "source": [
    "SEED = 20\n",
    "np.random.seed(SEED)\n",
    "\n",
    "train_x, test_x, train_y, test_y = train_test_split(x,y, random_state = SEED, test_size = 0.25, stratify = y)"
   ]
  },
  {
   "cell_type": "code",
   "execution_count": 68,
   "id": "78a4b871",
   "metadata": {},
   "outputs": [
    {
     "name": "stdout",
     "output_type": "stream",
     "text": [
      "(576, 5)\n",
      "(576,)\n",
      "(192, 5)\n",
      "(192,) \n",
      "\n",
      "******\n",
      "\n",
      "Treinando com 576 elementos e testando com 192 elementos.\n"
     ]
    }
   ],
   "source": [
    "print(train_x.shape)\n",
    "print(train_y.shape)\n",
    "print(test_x.shape)\n",
    "print(test_y.shape,'\\n')\n",
    "print('******\\n')\n",
    "print('Treinando com %d elementos e testando com %d elementos.' % (len(train_x), len(test_x)))"
   ]
  },
  {
   "cell_type": "markdown",
   "id": "2ff39b83",
   "metadata": {},
   "source": [
    "Agora o modelo será treinado e poderá prever os diagnósticos.  \n",
    "Por útlimo, teremos a estimativa do quão acurado o classificador é para prever a diabetes."
   ]
  },
  {
   "cell_type": "code",
   "execution_count": 69,
   "id": "59e0449e",
   "metadata": {},
   "outputs": [
    {
     "name": "stdout",
     "output_type": "stream",
     "text": [
      "Acurácia de of 80.21%\n"
     ]
    }
   ],
   "source": [
    "model = LinearSVC(dual=False)\n",
    "model.fit(train_x, train_y)\n",
    "\n",
    "predict = model.predict(test_x)\n",
    "\n",
    "accuracy = accuracy_score(test_y, predict)*100\n",
    "\n",
    "print('Acurácia de of %.2f%%' % accuracy)"
   ]
  }
 ],
 "metadata": {
  "kernelspec": {
   "display_name": "Python 3 (ipykernel)",
   "language": "python",
   "name": "python3"
  },
  "language_info": {
   "codemirror_mode": {
    "name": "ipython",
    "version": 3
   },
   "file_extension": ".py",
   "mimetype": "text/x-python",
   "name": "python",
   "nbconvert_exporter": "python",
   "pygments_lexer": "ipython3",
   "version": "3.9.12"
  }
 },
 "nbformat": 4,
 "nbformat_minor": 5
}
